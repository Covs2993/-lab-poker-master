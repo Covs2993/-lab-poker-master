{
 "cells": [
  {
   "cell_type": "markdown",
   "metadata": {},
   "source": [
    "# Game of the Chance\n",
    "\n",
    "In the lesson we have shown you how to use Python to calculate the probabilities and odds of the *royal flush* and *straight flush* in poker. In this lab you will calculate the probabilities of all other hands. Please be reminded that in the lesson there is a Poker Hands Probability Table you can refer to when you write Python code to calculate the probabilities."
   ]
  },
  {
   "cell_type": "markdown",
   "metadata": {},
   "source": [
    "## Challenge 1: *four of a kind*, *full house*, *flush*, and *straight*\n",
    "\n",
    "In the cell below, calculate the probability of getting each of the following hands:\n",
    "\n",
    "* *four of a kind*\n",
    "* *full house*\n",
    "* *flush*\n",
    "* *straight*\n",
    "\n",
    "Assign your results to these variables: `four_of_a_kind`, `full_house`, `flush`, and `straight`. Then print them out to check if they are consistent with the probabilities as shown in the table."
   ]
  },
  {
   "cell_type": "code",
   "execution_count": 1,
   "metadata": {},
   "outputs": [],
   "source": [
    "from scipy.special import comb"
   ]
  },
  {
   "cell_type": "code",
   "execution_count": 22,
   "metadata": {},
   "outputs": [],
   "source": [
    "# your code here\n",
    "#Puedes tener 13 combinaciones posibles más cualquier otra carta de las 52 menos 4 iguales son 48 \n",
    "#Entonces es 13 *48 entre las posibles combinaciones (52 comb 5)\n",
    "four_of_a_kind = (13*48)/(comb(52,5))\n",
    "\n",
    "# Puedes obtener de 13 combinaciones posibles para tener una tercia y ademas como son 4 palos\n",
    "# tendrás que considerar las posibles combinaciones de la tercia.\n",
    "# Tienes  12 posibles maneras para obtener un par ya que ya le quitaste la tercia\n",
    "# Para el par tienes 4 palos posibles por las dos cartas 4!/(2!(4−2)!) = 6\n",
    "# (1*2*3*4)/ (1*2)*(4-2)!\n",
    "# (1*2*3*4)/ (1*2)*(1*2)\n",
    "# (24)/ (4) = 6\n",
    "full_house = (13*4*12*6)/(comb(52,5))\n",
    "\n",
    "# Un flush (color) son 5 cartas del mismo palo entonces para cada uno tenemos 13 cartas \n",
    "# Por 4 palos posibles 13!/(5!(13−5)!) = \n",
    "# 1*2*3*4*5*6*7*8*9*10*11*12*13 / (1*2*3*4*5)*(1*2*3*4*5*6*7*8)\n",
    "#  1287 posibilidades pero tenemos que quitar las corridas y hay 10 posibles maneras de hacer una\n",
    "# 1277 son las posibilidades \n",
    "flush = (1277*4)/(comb(52,5))\n",
    "\n",
    "# Para obtener una escalera son 10 posibles y tenemos 4 palos entonces\n",
    "# Primero multiplicamos los 4 palos por carta es decir 4*4*4*4*4 = 1,024\n",
    "# Después eso lo multiplicamos por 10 porque son 10 maneras = 10,240\n",
    "# Le tenemos que quitar el color corrida y la corrida imperial \n",
    "# Color corrida para 1 palo son 9 por palo es decir 9*4 = 36\n",
    "# Hay 4 posibles manera de obtener un royal flush = 4\n",
    "#(10240-36-4)\n",
    "straight =  (10200)/(comb(52,5))"
   ]
  },
  {
   "cell_type": "code",
   "execution_count": 23,
   "metadata": {},
   "outputs": [
    {
     "name": "stdout",
     "output_type": "stream",
     "text": [
      "Four of a kinds probs 0.00024009603841536616\n",
      "Five for a full house 0.0014405762304921968\n",
      "Five for a flush      0.001965401545233478\n",
      "Five for a straight   0.003924646781789639\n"
     ]
    }
   ],
   "source": [
    "print('Four of a kinds probs', four_of_a_kind)\n",
    "print('Five for a full house', full_house)\n",
    "print('Five for a flush     ', flush)\n",
    "print('Five for a straight  ', straight)"
   ]
  },
  {
   "cell_type": "markdown",
   "metadata": {},
   "source": [
    "## Challenge 2: *three of a kind*, *two pair*, *one pair*, and *no pair*\n",
    "\n",
    "In the cell below, calculate the probability of getting each of the following hands:\n",
    "\n",
    "* *three of a kind*\n",
    "* *two pair*\n",
    "* *one pair*\n",
    "* *no pair*\n",
    "\n",
    "You need to figure out the math formulas by yourself. Check if your calculated probabilities are the same as shown in the table. Then assign your results to these variables: `three_of_a_kind`, `two_pair`, `one_pair`, and `no_pair`.\n",
    "\n",
    "*If you are really stuck and frustrated you may scroll down to the section called \"Show your probabilities in table\" where we give you all the math formulas. But try not to look at them unless you've lost half of your hair* 😏"
   ]
  },
  {
   "cell_type": "code",
   "execution_count": 57,
   "metadata": {},
   "outputs": [],
   "source": [
    "# your code here\n",
    "# Para 3 of a kind hay 13 posibles \n",
    "# Para las otras 2 cartas consideras que pueden salir cualquier combinaciones menos 1  es decir 12\n",
    "# 12!/ 2!(12-2)!\n",
    "# (1*2*3*4*5*6*7*8*9*10*11*12) / (1*2)*(1*2*3*4*5*6*7*8*9*10)\n",
    "#  479,001,600 / ( 2* 3,628,800) =66\n",
    "# Ahora son 4 palos posibles en 2 cartas entonces es 4*4 o 4**2 \n",
    "three_of_a_kind = (13*6*66*4**2)/(comb(52,5))\n",
    "\n",
    "# Para obtener el primer par hay 13 posibles cartas = 13\n",
    "# Como necesitamos 2 cartas iguales en 4 posibles pero esto 2 veces = 6**2\n",
    "# 4!/ 2!(4-2)!\n",
    "#1*2*3*4 / (1*2)*(1*2)\n",
    "# 24 / 4 =6\n",
    "#6**2\n",
    "# Para la otra carta debe de considerarse que puede salir cualquiera menos 2 es decir 11\n",
    "#11! / 1!(11-1)! \n",
    "#   39,916,800  / 3,628,800 = 11\n",
    "\n",
    "two_pair = (13*(6**2)*11*4)/(comb(52,5))\n",
    "\n",
    "\n",
    "#Para obtener 1 par hay 13 posibles   = 13\n",
    "#como necesitamos 2 cartas en 4 palos = 6\n",
    "# 4!/ 2!(4-2)!\n",
    "#1*2*3*4 / (1*2)*(1*2)\n",
    "# 24 / 4 =6\n",
    "# Para las otras 3 cartas debes de considerar que pueden salir cualquiera menos 1 es decir 12\n",
    "#12!/ 2!(12-2)!\n",
    "# (1*2*3*4*5*6*7*8*9*10*11*12) / (1*2*3)*(1*2*3*4*5*6*7*8*9)\n",
    "# 479,001,600 / (6* 362,880 ) = 220\n",
    "# Ahora como son 4 palos posibles en 3 cartas esntonces es 4*4*4 o 4**3\n",
    "one_pair = (13*6*220*4**3)/(comb(52,5))\n",
    "\n",
    "# Para obtener todas diferentes hay 13 posibilidades por carta y son 5 cartas entonces\n",
    "# 13!/(5!*(13-5)!)\n",
    "#  6,227,020,800 /(120*( 40,320)) =  1,287 \n",
    "# Se le tiene que restar =  -10\n",
    "# Se tiene que considerar que son 4 palos por lo que es 4 y esto elevarlo a la 5 por ser 5 cartas  4**5\n",
    "# Se le resta 4 = -4\n",
    "no_pair = ((1287-10)*((4**5)-4))/ (comb(52,5))"
   ]
  },
  {
   "cell_type": "code",
   "execution_count": 58,
   "metadata": {},
   "outputs": [
    {
     "name": "stdout",
     "output_type": "stream",
     "text": [
      "Three of a kind 0.03169267707082833\n",
      "Two pair        0.007923169267707083\n",
      "One pair        0.4225690276110444\n",
      "No pair         0.5011773940345369\n"
     ]
    }
   ],
   "source": [
    "print('Three of a kind', three_of_a_kind)\n",
    "print('Two pair       ', two_pair)\n",
    "print('One pair       ', one_pair)\n",
    "print('No pair        ', no_pair)"
   ]
  },
  {
   "cell_type": "markdown",
   "metadata": {},
   "source": [
    "### Show your probabilities in table\n",
    "\n",
    "Execute the following cell to display the probabilities you calculated.\n",
    "\n",
    "The code sample below also shows you:\n",
    "\n",
    "* How to format a float number as percentage.\n",
    "\n",
    "* How to print a HTML table in Jupyter Notebook to display the values in a Python dictionary.\n",
    "\n",
    "It's useful to understand how the code sample works."
   ]
  },
  {
   "cell_type": "code",
   "execution_count": 56,
   "metadata": {},
   "outputs": [
    {
     "data": {
      "text/html": [
       "<table style=\"width:100%;\"><tr><th>Cards</th><th>Hand</th><th>Probability</th><th>Math Expression</th></tr><tr><td><img src=\"royal-flush.jpeg\" style=\"float:right;\" /></td><td>royal flush</td><td>0.000154%</td><td><img src=\"royal-flush.svg\" style=\"float:right;\" /></td></tr><tr><td><img src=\"straight-flush.jpeg\" style=\"float:right;\" /></td><td>straight flush</td><td>0.001385%</td><td><img src=\"straight-flush.svg\" style=\"float:right;\" /></td></tr><tr><td><img src=\"four-of-kind.jpeg\" style=\"float:right;\" /></td><td>four of a kind</td><td>0.024010%</td><td><img src=\"four-of-kind.svg\" style=\"float:right;\" /></td></tr><tr><td><img src=\"full-house.jpeg\" style=\"float:right;\" /></td><td>full house</td><td>0.144058%</td><td><img src=\"full-house.svg\" style=\"float:right;\" /></td></tr><tr><td><img src=\"flush.jpeg\" style=\"float:right;\" /></td><td>flush</td><td>0.196540%</td><td><img src=\"flush.svg\" style=\"float:right;\" /></td></tr><tr><td><img src=\"straight.jpeg\" style=\"float:right;\" /></td><td>straight</td><td>0.392465%</td><td><img src=\"straight.svg\" style=\"float:right;\" /></td></tr><tr><td><img src=\"three-of-kind.jpeg\" style=\"float:right;\" /></td><td>three of a kind</td><td>3.169268%</td><td><img src=\"three-of-kind.svg\" style=\"float:right;\" /></td></tr><tr><td><img src=\"two-pair.jpeg\" style=\"float:right;\" /></td><td>two pair</td><td>0.792317%</td><td><img src=\"two-pair.svg\" style=\"float:right;\" /></td></tr><tr><td><img src=\"one-pair.jpeg\" style=\"float:right;\" /></td><td>one pair</td><td>42.256903%</td><td><img src=\"one-pair.svg\" style=\"float:right;\" /></td></tr><tr><td><img src=\"no-pair.jpeg\" style=\"float:right;\" /></td><td>no pair</td><td>-100.000000%</td><td><img src=\"no-pair.svg\" style=\"float:right;\" /></td></tr></table>"
      ],
      "text/plain": [
       "<IPython.core.display.HTML object>"
      ]
     },
     "metadata": {},
     "output_type": "display_data"
    }
   ],
   "source": [
    "from scipy.special import comb\n",
    "from IPython.display import HTML, display\n",
    "\n",
    "probs = {\n",
    "    'royal flush': (4/comb(52, 5), 'royal-flush.jpeg', 'royal-flush.svg'),\n",
    "    'straight flush': ((comb(10,1)*comb(4,1)-comb(4,1))/comb(52, 5), 'straight-flush.jpeg', 'straight-flush.svg'),\n",
    "    'four of a kind': (four_of_a_kind, 'four-of-kind.jpeg', 'four-of-kind.svg'),\n",
    "    'full house': (full_house, 'full-house.jpeg', 'full-house.svg'),\n",
    "    'flush': (flush, 'flush.jpeg', 'flush.svg'),\n",
    "    'straight': (straight, 'straight.jpeg', 'straight.svg'),\n",
    "    'three of a kind': (three_of_a_kind, 'three-of-kind.jpeg', 'three-of-kind.svg'),\n",
    "    'two pair': (two_pair, 'two-pair.jpeg', 'two-pair.svg'),\n",
    "    'one pair': (one_pair, 'one-pair.jpeg', 'one-pair.svg'),\n",
    "    'no pair': (no_pair, 'no-pair.jpeg', 'no-pair.svg'),\n",
    "}\n",
    "\n",
    "def format_prob(prob):\n",
    "    return \"{}%\".format(format(prob*100, '.6f'))\n",
    "\n",
    "def get_image_html(src):\n",
    "    return '<img src=\"{}\" style=\"float:right;\" />'.format(src)\n",
    "\n",
    "display(HTML(\n",
    "   '<table style=\"width:100%;\"><tr><th>Cards</th><th>Hand</th><th>Probability</th><th>Math Expression</th></tr><tr>{}</tr></table>'.format(\n",
    "       '</tr><tr>'.join(\n",
    "           '<td>{}</td>'.format('</td><td>'.join([get_image_html(val[1]), key, format_prob(val[0]), get_image_html(val[2])])) for key, val in probs.items())\n",
    "       )\n",
    "))"
   ]
  },
  {
   "cell_type": "markdown",
   "metadata": {},
   "source": [
    "## Bonus challenge: Using odds in real poker game\n",
    "\n",
    "But understanding how to calculate probabilities and odds does not necessarily make you a poker master. Additional learning is required. As an example, let's explain how to use this skill in [Texas Hold'em](https://www.instructables.com/id/Learn-To-Play-Poker---Texas-Hold-Em-aka-Texas-Ho/) (also see [this video](https://www.youtube.com/watch?v=KKMac6tQKiI)) where you are in the simpliest scenario playing against a single opponent.\n",
    "\n",
    "### Pot odds\n",
    "\n",
    "First, you need to understand what are **pot odds** which represent the odds of risk versus return. Pot odds is **the ratio between the amount of money in the pot versus the amount you need to put down in order to stay in the turn**. For example, if the pot has 10 dollars and your opponent bet 5 dollars, in order to follow you need to to bet 5 dollars. At this time, the pot odds is:\n",
    "\n",
    "```\n",
    "(10 + 5) : 5 = 15 : 5 = 3 : 1\n",
    "```\n",
    "\n",
    "The 3:1 pot odds means for every 1 dollar you bet you can potentially win 3 dollars. If you can win at least once among 3 tries you give, it is worth the risk. So then the question comes to how to calculate your odds to win, which can be achieved by calculating your **outs**."
   ]
  },
  {
   "cell_type": "markdown",
   "metadata": {},
   "source": [
    "### Outs\n",
    "\n",
    "**Outs are the number of cards you need in order to win the hand**. To count the outs you need to take into consideration what cards have been shown on the table (versus those unseen) and what cards you need in order to beat your opponent. For example, consider the following scenario after the turn (i.e. after the dealer lays out the 4th card and before everyone bets for the 3rd round):\n",
    "\n",
    "| Your hand: | ![](hj.png) | ![](h8.png) | . | . | . | . | . | . | . |\n",
    "| --- | --- | --- | --- | --- | --- | --- | --- | --- | --- |\n",
    "| **Dealer lays out:** | ![](h1.png) | ![](hk.png) | ![](c8.png) | ![](s7.png) | . | . | . | . | . |\n",
    "| **Opponent's hand (unknown):** | ![](unknown.png) | ![](unknown.png) | . | . | . | . | . | . | . |\n",
    "| **Cards you need to win (your outs):** | ![](h2.png) | ![](h3.png) | ![](h4.png) | ![](h5.png) |![](h6.png) | ![](h7.png) | ![](h9.png) | ![](h10.png) | ![](hq.png) |\n",
    "\n",
    "To win, you just need the dealer to lay out a heart card as the river card (the 5th & final card) so that you can have a flush. Your flush will beat your opponent for sure. Since there are 9 heart cards that are not shown on the table, you have 9 outs."
   ]
  },
  {
   "cell_type": "markdown",
   "metadata": {},
   "source": [
    "### Use outs to calculate your odds to win\n",
    "\n",
    "Your odds to win is calculated with the following formula:\n",
    "\n",
    "```\n",
    "Odds to Win = Number of Outs : (Number of Unseen Cards - Number of Outs)\n",
    "```\n",
    "\n",
    "In the example above, 6 cards have been shown on the table which means 52-6=46 cards are unseen (including the remaining deck plus the 2 cards in your opponent's hand). And you have 9 outs. Therefore, your odds to win is:\n",
    "\n",
    "```\n",
    "9 : (46 - 9) = 9 : 37\n",
    "```\n",
    "\n",
    "This is approximately 1:4, meaning you're 4 times likely to lose than to win. Your chance to win is thus 20%. Considering the pot odds which is 3:1, it does not worth for you to take the risk to bet. You should fold.\n",
    "\n",
    "Of course in real playing it's 100 times more complex than the scenario we showed you. First, there may be more than one way for you to win. For example, you may eventually have two pairs or a flush, either of which will make you win. In this case you total outs are the sum of the two-pair outs and the flush outs. But make sure you don't double count any of the cards when you count the outs. For instance, you may eventually have a straight flush or a flush, either of which will make you win. In this case you should only count the outs for flush because the outs for straight flush are contained in the outs for flush. \n",
    "\n",
    "Your eventual odds to win is related to on your opponents' odds to win. Unfortunately you can't see what cards your opponents have. The best you can do is to make sure you don't count the outs that will also give your opponents advantage. For example, afer the flop don't expect the dealer to come up with a pair so that you can have a three of a kind or two pairs. Because the dealer's pair will also give your opponent the equal advantage.\n",
    "\n",
    "Statistically speaking, there is only one basic rule: **don't take the risk if the risk won't bring you a higher return of your money**. However, as you get better in playing poker you'll be able to consider human and psychological factors such as your opponents bluffing or you bluffing."
   ]
  },
  {
   "cell_type": "markdown",
   "metadata": {},
   "source": [
    "### The shortcut method\n",
    "\n",
    "If you don't want to burn yourself out by calculating and comparing the pot odds and your odds to win, a shortcut method is **The Rule of 4 and 2**:\n",
    "\n",
    "* **After the flop (after dealer lays the first 3 cards on table), your chance to win is approximately 4 times the number of outs.**\n",
    "\n",
    "* **After the turn (after dealer lays the 4th card on table), your chance to win is approximately 2 times the number of outs.**\n",
    "\n",
    "This rule simplifies your decision making process whether to stay in the hand. In the example we gave you earlier, you have 9 outs after the turn. So your chance to win is `9 x 2 = 18%`. This is identical to the probability we calculated.\n",
    "\n",
    "*Disclaimer: We provide this lesson only for educational purposes. We do not think gambling is good for anyone. Do not gamble.*"
   ]
  },
  {
   "cell_type": "markdown",
   "metadata": {},
   "source": [
    "### Practice\n",
    "\n",
    "In the following scenarios, practice calculating your outs and odds to win. Assume the pot odds are 4:1. Should you fold or follow?\n",
    "\n",
    "![](scenario-1.png)\n",
    "\n",
    "![](scenario-2.png)\n",
    "\n",
    "![](scenario-3.png)"
   ]
  },
  {
   "cell_type": "code",
   "execution_count": null,
   "metadata": {},
   "outputs": [],
   "source": [
    "# your answer here"
   ]
  }
 ],
 "metadata": {
  "kernelspec": {
   "display_name": "Python 3",
   "language": "python",
   "name": "python3"
  },
  "language_info": {
   "codemirror_mode": {
    "name": "ipython",
    "version": 3
   },
   "file_extension": ".py",
   "mimetype": "text/x-python",
   "name": "python",
   "nbconvert_exporter": "python",
   "pygments_lexer": "ipython3",
   "version": "3.8.9"
  }
 },
 "nbformat": 4,
 "nbformat_minor": 2
}
